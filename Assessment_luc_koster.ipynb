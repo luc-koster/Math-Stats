{
 "cells": [
  {
   "cell_type": "code",
   "execution_count": 3,
   "id": "922c6abd-ecae-4304-915d-03e8f2b96652",
   "metadata": {
    "tags": []
   },
   "outputs": [
    {
     "name": "stdout",
     "output_type": "stream",
     "text": [
      "<class 'pandas.core.frame.DataFrame'>\n",
      "RangeIndex: 2000 entries, 0 to 1999\n",
      "Data columns (total 7 columns):\n",
      " #   Column                 Non-Null Count  Dtype  \n",
      "---  ------                 --------------  -----  \n",
      " 0   Variant                2000 non-null   object \n",
      " 1   Number of page views   2000 non-null   int64  \n",
      " 2   GMV (in $)             2000 non-null   float64\n",
      " 3   Number of add to cart  2000 non-null   int64  \n",
      " 4   Clicks on media        2000 non-null   int64  \n",
      " 5   Time on Page (sec)     2000 non-null   int64  \n",
      " 6   user_id                2000 non-null   int64  \n",
      "dtypes: float64(1), int64(5), object(1)\n",
      "memory usage: 109.5+ KB\n",
      "None\n"
     ]
    },
    {
     "data": {
      "text/html": [
       "<div>\n",
       "<style scoped>\n",
       "    .dataframe tbody tr th:only-of-type {\n",
       "        vertical-align: middle;\n",
       "    }\n",
       "\n",
       "    .dataframe tbody tr th {\n",
       "        vertical-align: top;\n",
       "    }\n",
       "\n",
       "    .dataframe thead th {\n",
       "        text-align: right;\n",
       "    }\n",
       "</style>\n",
       "<table border=\"1\" class=\"dataframe\">\n",
       "  <thead>\n",
       "    <tr style=\"text-align: right;\">\n",
       "      <th></th>\n",
       "      <th>Variant</th>\n",
       "      <th>Number of page views</th>\n",
       "      <th>GMV (in $)</th>\n",
       "      <th>Number of add to cart</th>\n",
       "      <th>Clicks on media</th>\n",
       "      <th>Time on Page (sec)</th>\n",
       "      <th>user_id</th>\n",
       "    </tr>\n",
       "  </thead>\n",
       "  <tbody>\n",
       "    <tr>\n",
       "      <th>0</th>\n",
       "      <td>A</td>\n",
       "      <td>5</td>\n",
       "      <td>0.00</td>\n",
       "      <td>0</td>\n",
       "      <td>2</td>\n",
       "      <td>74</td>\n",
       "      <td>0</td>\n",
       "    </tr>\n",
       "    <tr>\n",
       "      <th>1</th>\n",
       "      <td>A</td>\n",
       "      <td>4</td>\n",
       "      <td>0.00</td>\n",
       "      <td>4</td>\n",
       "      <td>1</td>\n",
       "      <td>21</td>\n",
       "      <td>1</td>\n",
       "    </tr>\n",
       "    <tr>\n",
       "      <th>2</th>\n",
       "      <td>A</td>\n",
       "      <td>4</td>\n",
       "      <td>0.00</td>\n",
       "      <td>2</td>\n",
       "      <td>0</td>\n",
       "      <td>1</td>\n",
       "      <td>2</td>\n",
       "    </tr>\n",
       "    <tr>\n",
       "      <th>3</th>\n",
       "      <td>A</td>\n",
       "      <td>5</td>\n",
       "      <td>0.00</td>\n",
       "      <td>0</td>\n",
       "      <td>1</td>\n",
       "      <td>26</td>\n",
       "      <td>3</td>\n",
       "    </tr>\n",
       "    <tr>\n",
       "      <th>4</th>\n",
       "      <td>A</td>\n",
       "      <td>5</td>\n",
       "      <td>0.00</td>\n",
       "      <td>3</td>\n",
       "      <td>3</td>\n",
       "      <td>46</td>\n",
       "      <td>4</td>\n",
       "    </tr>\n",
       "    <tr>\n",
       "      <th>...</th>\n",
       "      <td>...</td>\n",
       "      <td>...</td>\n",
       "      <td>...</td>\n",
       "      <td>...</td>\n",
       "      <td>...</td>\n",
       "      <td>...</td>\n",
       "      <td>...</td>\n",
       "    </tr>\n",
       "    <tr>\n",
       "      <th>1995</th>\n",
       "      <td>B</td>\n",
       "      <td>3</td>\n",
       "      <td>0.00</td>\n",
       "      <td>1</td>\n",
       "      <td>0</td>\n",
       "      <td>1</td>\n",
       "      <td>1995</td>\n",
       "    </tr>\n",
       "    <tr>\n",
       "      <th>1996</th>\n",
       "      <td>B</td>\n",
       "      <td>3</td>\n",
       "      <td>0.00</td>\n",
       "      <td>1</td>\n",
       "      <td>2</td>\n",
       "      <td>31</td>\n",
       "      <td>1996</td>\n",
       "    </tr>\n",
       "    <tr>\n",
       "      <th>1997</th>\n",
       "      <td>B</td>\n",
       "      <td>3</td>\n",
       "      <td>0.00</td>\n",
       "      <td>2</td>\n",
       "      <td>0</td>\n",
       "      <td>3</td>\n",
       "      <td>1997</td>\n",
       "    </tr>\n",
       "    <tr>\n",
       "      <th>1998</th>\n",
       "      <td>B</td>\n",
       "      <td>4</td>\n",
       "      <td>87.08</td>\n",
       "      <td>2</td>\n",
       "      <td>1</td>\n",
       "      <td>11</td>\n",
       "      <td>1998</td>\n",
       "    </tr>\n",
       "    <tr>\n",
       "      <th>1999</th>\n",
       "      <td>B</td>\n",
       "      <td>7</td>\n",
       "      <td>0.00</td>\n",
       "      <td>5</td>\n",
       "      <td>6</td>\n",
       "      <td>35</td>\n",
       "      <td>1999</td>\n",
       "    </tr>\n",
       "  </tbody>\n",
       "</table>\n",
       "<p>2000 rows × 7 columns</p>\n",
       "</div>"
      ],
      "text/plain": [
       "     Variant  Number of page views  GMV (in $)  Number of add to cart  \\\n",
       "0          A                     5        0.00                      0   \n",
       "1          A                     4        0.00                      4   \n",
       "2          A                     4        0.00                      2   \n",
       "3          A                     5        0.00                      0   \n",
       "4          A                     5        0.00                      3   \n",
       "...      ...                   ...         ...                    ...   \n",
       "1995       B                     3        0.00                      1   \n",
       "1996       B                     3        0.00                      1   \n",
       "1997       B                     3        0.00                      2   \n",
       "1998       B                     4       87.08                      2   \n",
       "1999       B                     7        0.00                      5   \n",
       "\n",
       "      Clicks on media  Time on Page (sec)  user_id  \n",
       "0                   2                  74        0  \n",
       "1                   1                  21        1  \n",
       "2                   0                   1        2  \n",
       "3                   1                  26        3  \n",
       "4                   3                  46        4  \n",
       "...               ...                 ...      ...  \n",
       "1995                0                   1     1995  \n",
       "1996                2                  31     1996  \n",
       "1997                0                   3     1997  \n",
       "1998                1                  11     1998  \n",
       "1999                6                  35     1999  \n",
       "\n",
       "[2000 rows x 7 columns]"
      ]
     },
     "execution_count": 3,
     "metadata": {},
     "output_type": "execute_result"
    }
   ],
   "source": [
    "import pandas as pd\n",
    "import seaborn as sns\n",
    "import matplotlib.pyplot as plt\n",
    "from scipy.stats import stats\n",
    "import scipy.stats as stats\n",
    "import numpy as np\n",
    "import pingouin as pg\n",
    "\n",
    "df = pd.read_csv(\"assessment_da25.csv\")\n",
    "\n",
    "print(df.info())\n",
    "df"
   ]
  },
  {
   "cell_type": "markdown",
   "id": "53dd1ce3-819e-4c81-8396-6027221eeb68",
   "metadata": {},
   "source": [
    "### Compare the variants by GMV"
   ]
  },
  {
   "cell_type": "code",
   "execution_count": 90,
   "id": "139fb9cc-9586-4b7d-b588-627bc2030d96",
   "metadata": {
    "tags": []
   },
   "outputs": [
    {
     "name": "stdout",
     "output_type": "stream",
     "text": [
      " The average GMV for variant A is $ 7.69\n",
      " The average GMV for variant B is $ 9.29\n"
     ]
    }
   ],
   "source": [
    "# Want to compare the amount of 'number of add to cart' with each variant.\n",
    "\n",
    "\n",
    "var_A = df[df[\"Variant\"].str.contains(\"A\")]\n",
    "var_B = df[df[\"Variant\"].str.contains(\"B\")]\n",
    "\n",
    "\n",
    "avg_var_A = var_A[\"GMV (in $)\"].sum().round()/1000\n",
    "avg_var_B = var_B[\"GMV (in $)\"].sum().round()/1000\n",
    "\n",
    "print(f\" The average GMV for variant A is $\", avg_var_A)\n",
    "print(f\" The average GMV for variant B is $\", avg_var_B)"
   ]
  },
  {
   "cell_type": "markdown",
   "id": "6bb1de49-4ec6-4b1a-93d5-4894f78373a2",
   "metadata": {
    "tags": []
   },
   "source": [
    "### Compare number add to cart"
   ]
  },
  {
   "cell_type": "code",
   "execution_count": 95,
   "id": "e7fce7dc-ba5b-4c7a-9abd-9e0985c99cd1",
   "metadata": {
    "tags": []
   },
   "outputs": [
    {
     "name": "stdout",
     "output_type": "stream",
     "text": [
      " The average of number added to cart 1.884\n",
      " The average of number added to cart 2.469\n"
     ]
    }
   ],
   "source": [
    "var_A = df[df[\"Variant\"].str.contains(\"A\")]\n",
    "var_B = df[df[\"Variant\"].str.contains(\"B\")]\n",
    "\n",
    "num_cart_A = var_A[\"Number of add to cart\"].sum()/1000\n",
    "num_cart_B = var_B[\"Number of add to cart\"].sum()/1000\n",
    "\n",
    "print(f\" The average of number added to cart\", num_cart_A)\n",
    "print(f\" The average of number added to cart\", num_cart_B)"
   ]
  },
  {
   "cell_type": "markdown",
   "id": "3d29f4ac-6ded-4924-b458-6cf30a55aafa",
   "metadata": {},
   "source": [
    "### Which variant made more adds to cart."
   ]
  },
  {
   "cell_type": "code",
   "execution_count": 102,
   "id": "218a269c-d1dc-404d-9d7b-1cdc0308f29e",
   "metadata": {
    "tags": []
   },
   "outputs": [
    {
     "name": "stdout",
     "output_type": "stream",
     "text": [
      "1884\n"
     ]
    },
    {
     "data": {
      "text/plain": [
       "2469"
      ]
     },
     "execution_count": 102,
     "metadata": {},
     "output_type": "execute_result"
    }
   ],
   "source": [
    "var_A = df[df[\"Variant\"].str.contains(\"A\")]\n",
    "var_B = df[df[\"Variant\"].str.contains(\"B\")]\n",
    "\n",
    "\n",
    "num_cart_A = var_A[\"Number of add to cart\"].sum()\n",
    "num_cart_B = var_B[\"Number of add to cart\"].sum()\n",
    "\n",
    "print(num_cart_A)\n",
    "num_cart_B"
   ]
  },
  {
   "cell_type": "code",
   "execution_count": 125,
   "id": "87ae502c-3fd0-48b1-a315-7fe9bd250808",
   "metadata": {
    "tags": []
   },
   "outputs": [
    {
     "data": {
      "text/html": [
       "<div>\n",
       "<style scoped>\n",
       "    .dataframe tbody tr th:only-of-type {\n",
       "        vertical-align: middle;\n",
       "    }\n",
       "\n",
       "    .dataframe tbody tr th {\n",
       "        vertical-align: top;\n",
       "    }\n",
       "\n",
       "    .dataframe thead th {\n",
       "        text-align: right;\n",
       "    }\n",
       "</style>\n",
       "<table border=\"1\" class=\"dataframe\">\n",
       "  <thead>\n",
       "    <tr style=\"text-align: right;\">\n",
       "      <th></th>\n",
       "      <th>Number of page views</th>\n",
       "      <th>GMV (in $)</th>\n",
       "      <th>Number of add to cart</th>\n",
       "      <th>Clicks on media</th>\n",
       "      <th>Time on Page (sec)</th>\n",
       "      <th>user_id</th>\n",
       "    </tr>\n",
       "    <tr>\n",
       "      <th>Variant</th>\n",
       "      <th></th>\n",
       "      <th></th>\n",
       "      <th></th>\n",
       "      <th></th>\n",
       "      <th></th>\n",
       "      <th></th>\n",
       "    </tr>\n",
       "  </thead>\n",
       "  <tbody>\n",
       "    <tr>\n",
       "      <th>A</th>\n",
       "      <td>4985</td>\n",
       "      <td>7689.99</td>\n",
       "      <td>1884</td>\n",
       "      <td>1495</td>\n",
       "      <td>20543</td>\n",
       "      <td>499500</td>\n",
       "    </tr>\n",
       "    <tr>\n",
       "      <th>B</th>\n",
       "      <td>5317</td>\n",
       "      <td>9289.53</td>\n",
       "      <td>2469</td>\n",
       "      <td>1324</td>\n",
       "      <td>20047</td>\n",
       "      <td>1499500</td>\n",
       "    </tr>\n",
       "  </tbody>\n",
       "</table>\n",
       "</div>"
      ],
      "text/plain": [
       "         Number of page views  GMV (in $)  Number of add to cart  \\\n",
       "Variant                                                            \n",
       "A                        4985     7689.99                   1884   \n",
       "B                        5317     9289.53                   2469   \n",
       "\n",
       "         Clicks on media  Time on Page (sec)  user_id  \n",
       "Variant                                                \n",
       "A                   1495               20543   499500  \n",
       "B                   1324               20047  1499500  "
      ]
     },
     "execution_count": 125,
     "metadata": {},
     "output_type": "execute_result"
    }
   ],
   "source": [
    "mean_df = df.groupby(\"Variant\").sum()\n",
    "mean_df\n"
   ]
  },
  {
   "cell_type": "code",
   "execution_count": 122,
   "id": "94d84f1a-5d3a-4b37-a1f3-dab5f53e2a86",
   "metadata": {
    "tags": []
   },
   "outputs": [
    {
     "data": {
      "image/png": "[encoded data removed]",
      "text/plain": [
       "<Figure size 640x480 with 1 Axes>"
      ]
     },
     "metadata": {},
     "output_type": "display_data"
    }
   ],
   "source": [
    "sns.histplot(data=df, x=\"Clicks on media\", bins=10, hue=\"Variant\", kde=True)\n",
    "plt.show()"
   ]
  },
  {
   "cell_type": "code",
   "execution_count": 129,
   "id": "c8ebb4df-1f6a-49c6-a506-9d2dc4462b65",
   "metadata": {
    "tags": []
   },
   "outputs": [
    {
     "data": {
      "image/png": "[encoded data removed]",
      "text/plain": [
       "<Figure size 640x480 with 1 Axes>"
      ]
     },
     "metadata": {},
     "output_type": "display_data"
    }
   ],
   "source": [
    "sns.histplot(data=df, x=\"Number of add to cart\", bins=10, hue=\"Variant\", kde=True)\n",
    "plt.show()"
   ]
  },
  {
   "cell_type": "code",
   "execution_count": 16,
   "id": "345907b4-0d0c-4c57-bf87-f6e70921a897",
   "metadata": {
    "tags": []
   },
   "outputs": [
    {
     "name": "stdout",
     "output_type": "stream",
     "text": [
      " Variant A made 80 amount of sales\n",
      " Variant B made 97 amount of sales\n"
     ]
    }
   ],
   "source": [
    "df_count_A = len(df[(df[\"Variant\"] == 'A') & (df[\"Number of add to cart\"] >= 1 ) & (df[\"GMV (in $)\"] > 0.1 )])\n",
    "df_count_B = len(df[(df[\"Variant\"] == 'B') & (df[\"Number of add to cart\"] >= 1 ) & (df[\"GMV (in $)\"] > 0.1 )])\n",
    "\n",
    "print(f\" Variant A made {df_count_A} amount of sales\")\n",
    "print(f\" Variant B made {df_count_B} amount of sales\")"
   ]
  },
  {
   "cell_type": "code",
   "execution_count": 14,
   "id": "181973fd-81ca-48aa-9ad6-e3899cd9b8d8",
   "metadata": {
    "tags": []
   },
   "outputs": [
    {
     "data": {
      "text/html": [
       "<div>\n",
       "<style scoped>\n",
       "    .dataframe tbody tr th:only-of-type {\n",
       "        vertical-align: middle;\n",
       "    }\n",
       "\n",
       "    .dataframe tbody tr th {\n",
       "        vertical-align: top;\n",
       "    }\n",
       "\n",
       "    .dataframe thead th {\n",
       "        text-align: right;\n",
       "    }\n",
       "</style>\n",
       "<table border=\"1\" class=\"dataframe\">\n",
       "  <thead>\n",
       "    <tr style=\"text-align: right;\">\n",
       "      <th></th>\n",
       "      <th>T</th>\n",
       "      <th>dof</th>\n",
       "      <th>alternative</th>\n",
       "      <th>p-val</th>\n",
       "      <th>CI95%</th>\n",
       "      <th>cohen-d</th>\n",
       "      <th>BF10</th>\n",
       "      <th>power</th>\n",
       "    </tr>\n",
       "  </thead>\n",
       "  <tbody>\n",
       "    <tr>\n",
       "      <th>T-test</th>\n",
       "      <td>3.17107</td>\n",
       "      <td>1998</td>\n",
       "      <td>greater</td>\n",
       "      <td>0.000771</td>\n",
       "      <td>[0.08, inf]</td>\n",
       "      <td>0.141815</td>\n",
       "      <td>14.612</td>\n",
       "      <td>0.936388</td>\n",
       "    </tr>\n",
       "  </tbody>\n",
       "</table>\n",
       "</div>"
      ],
      "text/plain": [
       "              T   dof alternative     p-val        CI95%   cohen-d    BF10  \\\n",
       "T-test  3.17107  1998     greater  0.000771  [0.08, inf]  0.141815  14.612   \n",
       "\n",
       "           power  \n",
       "T-test  0.936388  "
      ]
     },
     "execution_count": 14,
     "metadata": {},
     "output_type": "execute_result"
    }
   ],
   "source": [
    "num_A = df[df['Variant'] == \"A\"][\"Clicks on media\"]\n",
    "num_B = df[df['Variant'] == 'B'][\"Clicks on media\"]\n",
    "\n",
    "num_test = pg.ttest(num_A, num_B, paired=False, alternative=\"greater\")\n",
    "\n",
    "num_test"
   ]
  },
  {
   "cell_type": "code",
   "execution_count": 7,
   "id": "dc888721-1723-4489-bfdd-366deffc0cd9",
   "metadata": {
    "tags": []
   },
   "outputs": [
    {
     "name": "stdout",
     "output_type": "stream",
     "text": [
      "        U-val alternative  p-val      RBC     CLES\n",
      "MWU  403630.0     greater    1.0  0.19274  0.40363\n"
     ]
    }
   ],
   "source": [
    "# Mann-Whitney U test using pg.mwu\n",
    "\n",
    "clicks_A = df[df['Variant'] == \"A\"][\"Number of add to cart\"]\n",
    "clicks_B = df[df['Variant'] == 'B'][\"Number of add to cart\"]\n",
    "\n",
    "mwu = pg.mwu(clicks_A, clicks_B, alternative=\"greater\")\n",
    "\n",
    "print(mwu)"
   ]
  },
  {
   "cell_type": "code",
   "execution_count": 23,
   "id": "7d055005-3f73-4c93-aeae-fdd70b7b13ef",
   "metadata": {
    "tags": []
   },
   "outputs": [
    {
     "data": {
      "text/html": [
       "<div>\n",
       "<style scoped>\n",
       "    .dataframe tbody tr th:only-of-type {\n",
       "        vertical-align: middle;\n",
       "    }\n",
       "\n",
       "    .dataframe tbody tr th {\n",
       "        vertical-align: top;\n",
       "    }\n",
       "\n",
       "    .dataframe thead th {\n",
       "        text-align: right;\n",
       "    }\n",
       "</style>\n",
       "<table border=\"1\" class=\"dataframe\">\n",
       "  <thead>\n",
       "    <tr style=\"text-align: right;\">\n",
       "      <th></th>\n",
       "      <th>T</th>\n",
       "      <th>dof</th>\n",
       "      <th>alternative</th>\n",
       "      <th>p-val</th>\n",
       "      <th>CI95%</th>\n",
       "      <th>cohen-d</th>\n",
       "      <th>BF10</th>\n",
       "      <th>power</th>\n",
       "    </tr>\n",
       "  </thead>\n",
       "  <tbody>\n",
       "    <tr>\n",
       "      <th>T-test</th>\n",
       "      <td>-8.777389</td>\n",
       "      <td>1998</td>\n",
       "      <td>greater</td>\n",
       "      <td>1.0</td>\n",
       "      <td>[-0.69, inf]</td>\n",
       "      <td>0.392537</td>\n",
       "      <td>4.891e-16</td>\n",
       "      <td>0.0</td>\n",
       "    </tr>\n",
       "  </tbody>\n",
       "</table>\n",
       "</div>"
      ],
      "text/plain": [
       "               T   dof alternative  p-val         CI95%   cohen-d       BF10  \\\n",
       "T-test -8.777389  1998     greater    1.0  [-0.69, inf]  0.392537  4.891e-16   \n",
       "\n",
       "        power  \n",
       "T-test    0.0  "
      ]
     },
     "execution_count": 23,
     "metadata": {},
     "output_type": "execute_result"
    }
   ],
   "source": [
    "# Ttest using pg.ttest\n",
    "\n",
    "num_A = df[df['Variant'] == \"A\"][\"Number of add to cart\"]\n",
    "num_B = df[df['Variant'] == 'B'][\"Number of add to cart\"]\n",
    "\n",
    "num_test = pg.ttest(num_A, num_B, paired=False, alternative=\"greater\")\n",
    "\n",
    "num_test"
   ]
  },
  {
   "cell_type": "code",
   "execution_count": null,
   "id": "e5b4a55e-06a0-4ea5-af38-999a7e2a141b",
   "metadata": {},
   "outputs": [],
   "source": []
  }
 ],
 "metadata": {
  "kernelspec": {
   "display_name": "Python 3 (ipykernel)",
   "language": "python",
   "name": "python3"
  },
  "language_info": {
   "codemirror_mode": {
    "name": "ipython",
    "version": 3
   },
   "file_extension": ".py",
   "mimetype": "text/x-python",
   "name": "python",
   "nbconvert_exporter": "python",
   "pygments_lexer": "ipython3",
   "version": "3.11.5"
  }
 },
 "nbformat": 4,
 "nbformat_minor": 5
}
